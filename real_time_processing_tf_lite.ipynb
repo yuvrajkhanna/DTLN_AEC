{
 "cells": [
  {
   "cell_type": "code",
   "execution_count": 40,
   "id": "d6292a9a",
   "metadata": {},
   "outputs": [],
   "source": [
    "import soundfile as sf\n",
    "import numpy as np\n",
    "import tensorflow.lite as tflite\n",
    "import time"
   ]
  },
  {
   "cell_type": "code",
   "execution_count": 41,
   "id": "b2e5390b",
   "metadata": {},
   "outputs": [],
   "source": [
    "block_len = 512\n",
    "block_shift = 128"
   ]
  },
  {
   "cell_type": "code",
   "execution_count": 42,
   "id": "0f177794",
   "metadata": {},
   "outputs": [],
   "source": [
    "interpreter_1 = tflite.Interpreter(model_path='./weights/model_1.tflite')\n",
    "interpreter_1.allocate_tensors()\n",
    "interpreter_2 = tflite.Interpreter(model_path='./weights/model_2.tflite')\n",
    "interpreter_2.allocate_tensors()"
   ]
  },
  {
   "cell_type": "code",
   "execution_count": 43,
   "id": "4a6fb359",
   "metadata": {},
   "outputs": [],
   "source": [
    "input_details_1 = interpreter_1.get_input_details()\n",
    "output_details_1 = interpreter_1.get_output_details()\n",
    "\n",
    "input_details_2 = interpreter_2.get_input_details()\n",
    "output_details_2 = interpreter_2.get_output_details()"
   ]
  },
  {
   "cell_type": "code",
   "execution_count": 44,
   "id": "b5517644",
   "metadata": {},
   "outputs": [],
   "source": [
    "states_1 = np.zeros(input_details_1[2]['shape']).astype('float32')\n",
    "states_2 = np.zeros(input_details_2[2]['shape']).astype('float32')"
   ]
  },
  {
   "cell_type": "code",
   "execution_count": 45,
   "id": "14bc0ffc",
   "metadata": {},
   "outputs": [],
   "source": [
    "farend,fs = sf.read('farend_speech_fileid_0.wav')\n",
    "nearend,fs = sf.read('nearend_mic_fileid_0.wav')"
   ]
  },
  {
   "cell_type": "code",
   "execution_count": 46,
   "id": "757e68ba",
   "metadata": {},
   "outputs": [],
   "source": [
    "if fs != 16000:\n",
    "    raise ValueError('This model only supports 16k sampling rate.')"
   ]
  },
  {
   "cell_type": "code",
   "execution_count": 47,
   "id": "26782cc1",
   "metadata": {},
   "outputs": [],
   "source": [
    "out_file = np.zeros((len(nearend)))"
   ]
  },
  {
   "cell_type": "code",
   "execution_count": 48,
   "id": "4ebc0e1c",
   "metadata": {},
   "outputs": [],
   "source": [
    "farend_in_buffer = np.zeros((block_len)).astype('float32')\n",
    "nearend_in_buffer = np.zeros((block_len)).astype('float32')\n",
    "out_buffer = np.zeros((block_len)).astype('float32')"
   ]
  },
  {
   "cell_type": "code",
   "execution_count": 49,
   "id": "29be0ea9",
   "metadata": {},
   "outputs": [],
   "source": [
    "num_blocks = (nearend.shape[0] - (block_len-block_shift)) // block_shift\n",
    "time_array = []"
   ]
  },
  {
   "cell_type": "code",
   "execution_count": null,
   "id": "06adade8",
   "metadata": {},
   "outputs": [],
   "source": []
  },
  {
   "cell_type": "code",
   "execution_count": 50,
   "id": "a311321e",
   "metadata": {},
   "outputs": [],
   "source": [
    "for idx in range(num_blocks):\n",
    "    start_time = time.time()\n",
    "    # shift values and write to buffer\n",
    "    farend_in_buffer[:-block_shift] = farend_in_buffer[block_shift:]\n",
    "    farend_in_buffer[-block_shift:] = farend[idx*block_shift:(idx*block_shift)+block_shift]\n",
    "    nearend_in_buffer[:-block_shift] = nearend_in_buffer[block_shift:]\n",
    "    nearend_in_buffer[-block_shift:] = nearend[idx*block_shift:(idx*block_shift)+block_shift]\n",
    "    # calculate fft of input block\n",
    "    farend_in_block_fft = np.fft.rfft(np.squeeze(farend_in_buffer)).astype(\"complex64\")\n",
    "    nearend_in_block_fft = np.fft.rfft(np.squeeze(nearend_in_buffer)).astype(\"complex64\")\n",
    "    farend_in_mag = np.abs(farend_in_block_fft)\n",
    "    nearend_in_mag = np.abs(nearend_in_block_fft)\n",
    "    nearend_in_phase = np.angle(nearend_in_block_fft)\n",
    "    # reshape magnitude to input dimensions\n",
    "    farend_in_mag = np.reshape(farend_in_mag, (1,1,-1)).astype('float32')\n",
    "    nearend_in_mag = np.reshape(nearend_in_mag, (1,1,-1)).astype('float32')\n",
    "    # set tensors to the first model\n",
    "    interpreter_1.set_tensor(input_details_1[0]['index'], farend_in_mag)\n",
    "    interpreter_1.set_tensor(input_details_1[1]['index'], nearend_in_mag)\n",
    "    interpreter_1.set_tensor(input_details_1[2]['index'], states_1)\n",
    "    # run calculation \n",
    "    interpreter_1.invoke()\n",
    "    # get the output of the first block\n",
    "    out_mask = interpreter_1.get_tensor(output_details_1[0]['index']) \n",
    "    states_1 = interpreter_1.get_tensor(output_details_1[1]['index']) \n",
    "    # calculate the ifft\n",
    "    estimated_complex = nearend_in_block_fft * out_mask\n",
    "    estimated_block = np.fft.irfft(estimated_complex)\n",
    "    # reshape the time domain block\n",
    "    estimated_block = np.reshape(estimated_block, (1,1,-1)).astype('float32')\n",
    "    # set tensors to the second block\n",
    "    interpreter_2.set_tensor(input_details_2[0]['index'], estimated_block)\n",
    "    interpreter_2.set_tensor(input_details_2[1]['index'], np.reshape(farend_in_buffer, (1,1,-1)).astype('float32'))\n",
    "    interpreter_2.set_tensor(input_details_2[2]['index'], states_2)\n",
    "    # run calculation\n",
    "    interpreter_2.invoke()\n",
    "    # get output tensors\n",
    "    out_block = interpreter_2.get_tensor(output_details_2[0]['index']) \n",
    "    states_2 = interpreter_2.get_tensor(output_details_2[1]['index']) \n",
    "    # shift values and write to buffer\n",
    "    out_buffer[:-block_shift] = out_buffer[block_shift:]\n",
    "    out_buffer[-block_shift:] = np.zeros((block_shift))\n",
    "    out_buffer  += np.squeeze(out_block)\n",
    "    # write block to output file\n",
    "    out_file[idx*block_shift:(idx*block_shift)+block_shift] = out_buffer[:block_shift]\n",
    "    time_array.append(time.time()-start_time)"
   ]
  },
  {
   "cell_type": "code",
   "execution_count": 51,
   "id": "187debbb",
   "metadata": {},
   "outputs": [],
   "source": [
    "predicted_speech = out_file[\n",
    "        (block_len - block_shift) : (block_len - block_shift) + len(nearend)\n",
    "    ]"
   ]
  },
  {
   "cell_type": "code",
   "execution_count": 52,
   "id": "1886d9f8",
   "metadata": {},
   "outputs": [
    {
     "name": "stdout",
     "output_type": "stream",
     "text": [
      "Processing Time [ms]:\n",
      "0.8687379846220797\n",
      "Processing finished.\n"
     ]
    }
   ],
   "source": [
    "# write to .wav file \n",
    "sf.write('samples/tfwav.wav', out_file, fs) \n",
    "print('Processing Time [ms]:')\n",
    "print(np.mean(np.stack(time_array))*1000)\n",
    "print('Processing finished.')"
   ]
  },
  {
   "cell_type": "code",
   "execution_count": null,
   "id": "333feff1",
   "metadata": {},
   "outputs": [],
   "source": []
  }
 ],
 "metadata": {
  "kernelspec": {
   "display_name": "tf",
   "language": "python",
   "name": "tf"
  },
  "language_info": {
   "codemirror_mode": {
    "name": "ipython",
    "version": 3
   },
   "file_extension": ".py",
   "mimetype": "text/x-python",
   "name": "python",
   "nbconvert_exporter": "python",
   "pygments_lexer": "ipython3",
   "version": "3.7.10"
  }
 },
 "nbformat": 4,
 "nbformat_minor": 5
}
