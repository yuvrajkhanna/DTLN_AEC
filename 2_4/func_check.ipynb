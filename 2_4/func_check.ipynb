{
 "cells": [
  {
   "cell_type": "code",
   "execution_count": 1,
   "id": "ff100ad2",
   "metadata": {},
   "outputs": [
    {
     "name": "stderr",
     "output_type": "stream",
     "text": [
      "E:\\conda\\envs\\tf\\lib\\site-packages\\numpy\\_distributor_init.py:32: UserWarning: loaded more than 1 DLL from .libs:\n",
      "E:\\conda\\envs\\tf\\lib\\site-packages\\numpy\\.libs\\libopenblas.PYQHXLVVQ7VESDPUVUADXEVJOBGHJPAY.gfortran-win_amd64.dll\n",
      "E:\\conda\\envs\\tf\\lib\\site-packages\\numpy\\.libs\\libopenblas.WCDJNK7YVMPZQ2ME2ZZHJJRJ3JIKNDB7.gfortran-win_amd64.dll\n",
      "  stacklevel=1)\n"
     ]
    }
   ],
   "source": [
    "import os, fnmatch\n",
    "import tensorflow.keras as keras\n",
    "from tensorflow.keras.models import Model\n",
    "from tensorflow.keras.layers import Activation, Dense, LSTM, Dropout, \\\n",
    "    Lambda, Input, Multiply, Layer, Conv1D, Concatenate\n",
    "from tensorflow.keras.callbacks import ReduceLROnPlateau, CSVLogger, \\\n",
    "    EarlyStopping, ModelCheckpoint\n",
    "import tensorflow as tf\n",
    "import soundfile as sf\n",
    "import math\n",
    "from wavinfo import WavInfoReader\n",
    "from random import shuffle, seed\n",
    "import numpy as np\n",
    "import matplotlib.pyplot as plt\n",
    "import librosa as lb\n",
    "from scipy import signal\n",
    "from scipy.signal import butter, lfilter"
   ]
  },
  {
   "cell_type": "code",
   "execution_count": 2,
   "id": "a641eb81",
   "metadata": {},
   "outputs": [],
   "source": [
    "def rms(audio):\n",
    "    v_rms = (audio ** 2).mean() ** 0.5\n",
    "    return v_rms"
   ]
  },
  {
   "cell_type": "code",
   "execution_count": 3,
   "id": "2d6704bb",
   "metadata": {},
   "outputs": [],
   "source": [
    "def amp_to_dB(audio):\n",
    "    v_rms = rms(audio)\n",
    "    print(v_rms)"
   ]
  },
  {
   "cell_type": "code",
   "execution_count": 4,
   "id": "628b1a4d",
   "metadata": {},
   "outputs": [],
   "source": [
    "def normalize(audio):\n",
    "    norm_audio = audio / np.max(np.abs(audio))\n",
    "    return norm_audio"
   ]
  },
  {
   "cell_type": "code",
   "execution_count": 5,
   "id": "18457960",
   "metadata": {},
   "outputs": [],
   "source": [
    "def process_rir(rir):\n",
    "    norm_Rir=normalize(rir)\n",
    "    gain=np.random.uniform(-25,0)\n",
    "    temp=add_gain(norm_Rir,gain)\n",
    "    temp[np.argmax(temp,axis=0)]=1\n",
    "    return temp"
   ]
  },
  {
   "cell_type": "code",
   "execution_count": 6,
   "id": "a7d7b514",
   "metadata": {},
   "outputs": [],
   "source": [
    "def add_gain(audio,gain):\n",
    "    new_audio=audio*(10**(gain/20))\n",
    "    return new_audio"
   ]
  },
  {
   "cell_type": "code",
   "execution_count": 7,
   "id": "a3c938b3",
   "metadata": {},
   "outputs": [],
   "source": [
    "def add_noise(signal,noise_SNR,spectral_shaping=False):\n",
    "    RMS=math.sqrt(np.mean(signal**2))\n",
    "    STD_n=RMS/(10**(noise_SNR/20))\n",
    "    noise=np.random.normal(0, STD_n, signal.shape[0])\n",
    "    if spectral_shaping:\n",
    "        noise=random_spectral_shaping(noise)\n",
    "    signal_noise = signal+noise\n",
    "    return signal_noise"
   ]
  },
  {
   "cell_type": "code",
   "execution_count": 8,
   "id": "e283e183",
   "metadata": {},
   "outputs": [],
   "source": [
    "def add_delay(audio,fs,time):\n",
    "    # time in ms\n",
    "    delay=int(time*fs/1000)\n",
    "    delayed_audio=np.zeros(np.shape(audio))\n",
    "    delayed_audio[delay:]=audio[delay:]\n",
    "    return delayed_audio"
   ]
  },
  {
   "cell_type": "code",
   "execution_count": 9,
   "id": "713c74bf",
   "metadata": {},
   "outputs": [],
   "source": [
    "def butter_bandpass(lowcut, highcut, fs, order=5):\n",
    "    nyq = 0.5 * fs\n",
    "    low = lowcut / nyq\n",
    "    high = highcut / nyq\n",
    "    b, a = butter(order, [low, high], btype='band')\n",
    "    return b, a"
   ]
  },
  {
   "cell_type": "code",
   "execution_count": 10,
   "id": "40ac7f28",
   "metadata": {},
   "outputs": [],
   "source": [
    "def butter_bandpass_filter(data, lowcut, highcut, fs, order=5):\n",
    "    b, a = butter_bandpass(lowcut, highcut, fs, order=order)\n",
    "    y = lfilter(b, a, data)\n",
    "    return y"
   ]
  },
  {
   "cell_type": "code",
   "execution_count": 11,
   "id": "65e60f0b",
   "metadata": {},
   "outputs": [],
   "source": [
    "def conv_RIR(audio,rir):\n",
    "    signal_rev =signal.fftconvolve(audio,rir,mode=\"full\")\n",
    "    signal_rev = signal_rev[0 : audio.shape[0]]\n",
    "    return signal_rev"
   ]
  },
  {
   "cell_type": "code",
   "execution_count": 12,
   "id": "42ce4d62",
   "metadata": {},
   "outputs": [],
   "source": [
    "def random_spectral_shaping(audio):\n",
    "    r=np.random.uniform(-3/8,3/8,4)\n",
    "    b=[1,r[0],r[1]]\n",
    "    a=[1,r[2],r[3]]\n",
    "    y = lfilter(b, a, audio)\n",
    "    return y"
   ]
  },
  {
   "cell_type": "code",
   "execution_count": 13,
   "id": "da7592dc",
   "metadata": {},
   "outputs": [],
   "source": [
    "def discard(audio,fs):\n",
    "    z=np.random.uniform(0,1,1)\n",
    "    start=np.random.randint(0,fs*2-2)\n",
    "    if z<0.5:\n",
    "        end=start+fs\n",
    "        discarded_audio=audio\n",
    "        discarded_audio[start:end]=0\n",
    "    else:\n",
    "        end=start+2*fs\n",
    "        discarded_audio=audio\n",
    "        discarded_audio[start:end]=0\n",
    "    return discarded_audio,start,end"
   ]
  },
  {
   "cell_type": "code",
   "execution_count": 14,
   "id": "c30c0eb2",
   "metadata": {},
   "outputs": [],
   "source": [
    "def add_signals(audio1,audio2,snr):\n",
    "    # add 2 signals with given snr ratio\n",
    "    rms1=rms(audio1)\n",
    "    rms2=rms(audio2)\n",
    "    scaler=rms1/(rms2*(10**(snr/20)))\n",
    "    scaled_audio2=scaler*audio2\n",
    "    y=audio1+scaled_audio2\n",
    "    return y"
   ]
  },
  {
   "cell_type": "code",
   "execution_count": 15,
   "id": "8c225799",
   "metadata": {},
   "outputs": [],
   "source": [
    "def create_farend_signal(farend,rir,fs):\n",
    "    ##################################################################################\n",
    "    #create farend signal from farend speech and farend room impulse response \n",
    "    ##################################################################################    \n",
    "\n",
    "    # The echo signal is convolved with IR of Far-end room.\n",
    "    \n",
    "    processed_rir=process_rir(rir)\n",
    "    room_farend=conv_RIR(farend,processed_rir)\n",
    "    \n",
    "    # In 50% of the cases, a noise sample is added with an SNR randomly taken from a \n",
    "    # normal distribution with a mean 5 dB and standard deviation 10 dB to account for\n",
    "    # a noisy far-end signal.\n",
    "    \n",
    "    z=np.random.uniform(0,1,1)\n",
    "    if z>0.5:\n",
    "        noise_SNR=np.random.normal(5,10,1)\n",
    "        noisy_farend=add_noise(room_farend,noise_SNR)\n",
    "    else:\n",
    "        noisy_farend=room_farend\n",
    "    \n",
    "    return noisy_farend"
   ]
  },
  {
   "cell_type": "code",
   "execution_count": 16,
   "id": "0d4cbe47",
   "metadata": {},
   "outputs": [],
   "source": [
    "def create_nearend_signal(nearend,rir,fs):\n",
    "    ##################################################################################\n",
    "    #create nearend signal from nearend speech and nearend room impulse response \n",
    "    ##################################################################################\n",
    "    \n",
    "    # The echo signal is convolved with IR of near-end room.\n",
    "    processed_rir=process_rir(rir)\n",
    "    room_nearend=conv_RIR(nearend,processed_rir)\n",
    "    \n",
    "    # Random spectral shaping for noise reduction is applied to the speech signal to \n",
    "    # increase robustness and model various transmission effects.\n",
    "    \n",
    "    spectral = random_spectral_shaping(room_nearend)\n",
    "    \n",
    "    # In 70% of the cases, a noise sample is added with an SNR randomly taken from a\n",
    "    # normal distribution with a mean 5 dB and standard deviation 10 dB to account for\n",
    "    # a noisy far-end signal. Random spectral shaping is also applied to the noise \n",
    "    # signal independently.\n",
    "    \n",
    "    z=np.random.uniform(0,1,1)\n",
    "    if z>0.3:\n",
    "        noise_SNR=np.random.normal(5,10,1)\n",
    "        noisy_nearend=add_noise(room_nearend,noise_SNR,spectral_shaping = True)\n",
    "    else:\n",
    "        noisy_nearend=room_nearend\n",
    "    \n",
    "    return noisy_nearend"
   ]
  },
  {
   "cell_type": "code",
   "execution_count": 17,
   "id": "22ae1e2b",
   "metadata": {},
   "outputs": [],
   "source": [
    "def create_echo_signal(farend,rir,fs):\n",
    "    ##################################################################################\n",
    "    #create echo signal from farend and room impulse response used in near end signal\n",
    "    ##################################################################################\n",
    "        \n",
    "    # the previously created far-end signal is delayed by a random value between 10 \n",
    "    # and 100 ms to simulate a processing and transmission delay\n",
    "    \n",
    "    delay=np.random.uniform(10,100,1)\n",
    "    delayed_audio = add_delay(farend,fs,delay)\n",
    "    \n",
    "    # The delayed signal is filtered by a band-pass signal with a random lower cut-off\n",
    "    # frequency between 100 and 400 Hz and a higher cut-off frequency between 6000 and\n",
    "    # 7500 Hz.\n",
    "    \n",
    "    low=np.random.uniform(100,400,1)\n",
    "    high=np.random.uniform(6000,7500,1)\n",
    "    fil_audio=butter_bandpass_filter(delayed_audio,low,high,fs)\n",
    "    \n",
    "    # The echo signal is finally convolved with same IR as the near-end signal.\n",
    "    \n",
    "    processed_rir=process_rir(rir)\n",
    "    echo=conv_RIR(fil_audio,processed_rir)\n",
    "    plt.figure(1)\n",
    "    plt.plot(farend)\n",
    "    plt.figure(2)\n",
    "    plt.plot(echo)\n",
    "    return echo"
   ]
  },
  {
   "cell_type": "code",
   "execution_count": 18,
   "id": "90568f15",
   "metadata": {},
   "outputs": [],
   "source": [
    "def preprocess(nearend,farend,rir_nearend,rir_farend,fs):\n",
    "    ##################################################################################\n",
    "    #create inputs and output for the model\n",
    "    ##################################################################################\n",
    "    flag=0\n",
    "    \n",
    "    # In 5% of the cases, a near-end speech segment of random duration\n",
    "    # is discarded to account for far-end-only scenarios\n",
    "    z=np.random.uniform(0,1,1)\n",
    "    if z<0.05:\n",
    "        flag=1\n",
    "        discarded_nearend_speech,start,end=discard(nearend,fs)\n",
    "    else:\n",
    "        discarded_nearend_speech=nearend\n",
    "    \n",
    "    # In 90% of the cases, the echo signal is added to the near-end speech with a \n",
    "    # speechto-echo ratio taken from a normal distribution with a 0 dB mean and \n",
    "    # standard deviation of 10 dB.. The echo signal as well as the far-end speech \n",
    "    # signal is applied with random spectral shaping.If no echo is applied, the far-end \n",
    "    # signal is set to zero or to low-level noise in the range between -70 and -120 dB \n",
    "    # RMS with random spectral shaping.All signals used as input to the model are \n",
    "    # subject to a random gain chosen from a uniform distribution ranging from -25 to 0 dB\n",
    "    \n",
    "    nearend_speech_sig = create_nearend_signal(discarded_nearend_speech,rir_nearend,fs)\n",
    "    z=np.random.uniform(0,1,1)\n",
    "    if z>0.1:\n",
    "        print('echo')\n",
    "        farend_signal = create_farend_signal(farend,rir_farend,fs)\n",
    "        echo = create_echo_signal(farend_signal,rir_farend,fs)\n",
    "        farend_signal = random_spectral_shaping(farend_signal)\n",
    "        echo = random_spectral_shaping(echo)\n",
    "        ser = np.random.uniform(0,10,1)\n",
    "        nearend_sig = add_signals(nearend_speech_sig,echo,ser)\n",
    "        rand_gain = np.random.uniform(-25,0,1)\n",
    "        #nearend_sig=add_gain(nearend_sig,rand_gain)\n",
    "        #farend_signal=add_gain(nearend_sig,rand_gain)\n",
    "        #discarded_nearend_speech=add_gain(nearend_sig,rand_gain)\n",
    "        return nearend_sig,farend_signal,discarded_nearend_speech\n",
    "    else:\n",
    "        print('no echo')\n",
    "        p=np.random.uniform(0,1,1)\n",
    "        if p>0.5:\n",
    "            farend_signal=np.zeros(nearend.shape[0])\n",
    "            return nearend_speech_sig,farend_signal,discarded_nearend_speech\n",
    "        else:\n",
    "            STD_n = np.random.uniform(-70,-120,1)\n",
    "            farend_signal = np.random.normal(0, STD_n, nearend.shape[0])\n",
    "            farend_signal = random_spectral_shaping(farend_signal)\n",
    "            return nearend_speech_sig,farend_signal,discarded_nearend_speech"
   ]
  },
  {
   "cell_type": "code",
   "execution_count": 76,
   "id": "e79b00fb",
   "metadata": {},
   "outputs": [
    {
     "name": "stdout",
     "output_type": "stream",
     "text": [
      "echo\n"
     ]
    },
    {
     "data": {
      "image/png": "[encoded data removed]",
      "text/plain": [
       "<Figure size 432x288 with 1 Axes>"
      ]
     },
     "metadata": {
      "needs_background": "light"
     },
     "output_type": "display_data"
    },
    {
     "data": {
      "image/png": "[encoded data removed]",
      "text/plain": [
       "<Figure size 432x288 with 1 Axes>"
      ]
     },
     "metadata": {
      "needs_background": "light"
     },
     "output_type": "display_data"
    }
   ],
   "source": [
    "audio_file_name='E:/intern/codes/dataset/farend_speech/farend_speech_fileid_0.wav'\n",
    "farend,fs = sf.read(audio_file_name)\n",
    "audio_file_name='E:/intern/codes/dataset/nearend_speech/nearend_speech_fileid_0.wav'\n",
    "nearend,fs = sf.read(audio_file_name)\n",
    "audio_file_name='E:/intern/codes/dataset/RIR/large_room/RVB2014_type1_rir_largeroom1_far_anglb.wav'\n",
    "farend_rir,fs = sf.read(audio_file_name)\n",
    "audio_file_name='E:/intern/codes/dataset/RIR/small_room/Room001-00001.wav'\n",
    "nearend_rir,fs = sf.read(audio_file_name)\n",
    "farend_chunk=farend[64000:128000]\n",
    "nearend_chunk=nearend[64000:128000]\n",
    "farend_rir=farend_rir[:,0]\n",
    "sf.write('farend_chunk.wav', farend_chunk, fs)\n",
    "sf.write('nearend_chunk.wav', nearend_chunk, fs)\n",
    "nearend_sig,farend_signal,discarded_nearend_speech=preprocess(nearend_chunk,farend_chunk,nearend_rir,farend_rir,fs)"
   ]
  },
  {
   "cell_type": "code",
   "execution_count": 77,
   "id": "adb540a8",
   "metadata": {},
   "outputs": [],
   "source": [
    "sf.write('check/discarded_nearend_speech5.wav', discarded_nearend_speech, fs)\n",
    "sf.write('check/nearend_signal5.wav', nearend_sig, fs)\n",
    "sf.write('check/farend_signal5.wav', farend_signal, fs)"
   ]
  },
  {
   "cell_type": "code",
   "execution_count": null,
   "id": "1707c87d",
   "metadata": {},
   "outputs": [],
   "source": []
  },
  {
   "cell_type": "code",
   "execution_count": null,
   "id": "9a480ebe",
   "metadata": {},
   "outputs": [],
   "source": []
  }
 ],
 "metadata": {
  "kernelspec": {
   "display_name": "tf",
   "language": "python",
   "name": "tf"
  },
  "language_info": {
   "codemirror_mode": {
    "name": "ipython",
    "version": 3
   },
   "file_extension": ".py",
   "mimetype": "text/x-python",
   "name": "python",
   "nbconvert_exporter": "python",
   "pygments_lexer": "ipython3",
   "version": "3.7.10"
  }
 },
 "nbformat": 4,
 "nbformat_minor": 5
}
