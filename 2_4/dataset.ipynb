{
 "cells": [
  {
   "cell_type": "code",
   "execution_count": 1,
   "id": "3dd3ca38",
   "metadata": {},
   "outputs": [
    {
     "name": "stderr",
     "output_type": "stream",
     "text": [
      "E:\\conda\\envs\\tf\\lib\\site-packages\\numpy\\_distributor_init.py:32: UserWarning: loaded more than 1 DLL from .libs:\n",
      "E:\\conda\\envs\\tf\\lib\\site-packages\\numpy\\.libs\\libopenblas.PYQHXLVVQ7VESDPUVUADXEVJOBGHJPAY.gfortran-win_amd64.dll\n",
      "E:\\conda\\envs\\tf\\lib\\site-packages\\numpy\\.libs\\libopenblas.WCDJNK7YVMPZQ2ME2ZZHJJRJ3JIKNDB7.gfortran-win_amd64.dll\n",
      "  stacklevel=1)\n"
     ]
    }
   ],
   "source": [
    "import pandas as pd\n",
    "import numpy as np\n",
    "from pathlib import Path\n",
    "import soundfile as sf"
   ]
  },
  {
   "cell_type": "code",
   "execution_count": 7,
   "id": "ba2d36f0",
   "metadata": {},
   "outputs": [],
   "source": [
    "farend_speech_path='E:/intern/codes/dataset/farend_speech/'\n",
    "nearend_speech_path='E:/intern/codes/dataset/nearend_speech/'\n",
    "RIR_path='E:/intern/codes/dataset/RIR/'"
   ]
  },
  {
   "cell_type": "code",
   "execution_count": 16,
   "id": "df100f6b",
   "metadata": {},
   "outputs": [],
   "source": [
    "fs=16000\n",
    "time=4\n",
    "len_of_samples=fs*time"
   ]
  },
  {
   "cell_type": "code",
   "execution_count": 8,
   "id": "209c40c0",
   "metadata": {},
   "outputs": [],
   "source": [
    "farend_speechs=[]\n",
    "for path in Path(farend_speech_path).rglob('*.wav'):\n",
    "    farend_speechs.append(str(path.resolve()))\n",
    "farend_speech_chunk_list=[]\n",
    "for i in farend_speechs:\n",
    "    audio,fs=sf.read(i)\n",
    "    num_samples = int(np.fix(audio.shape[0]/len_of_samples))\n",
    "    for j in range(num_samples):\n",
    "        farend_speech_chunk_list.append(i+\"{:02d}\".format(j+1))"
   ]
  },
  {
   "cell_type": "code",
   "execution_count": 21,
   "id": "625c59fb",
   "metadata": {},
   "outputs": [],
   "source": [
    "nearend_speechs=[]\n",
    "for path in Path(nearend_speech_path).rglob('*.wav'):\n",
    "    nearend_speechs.append(str(path.resolve()))\n",
    "nearend_speech_chunk_list=[]\n",
    "for i in nearend_speechs:\n",
    "    audio,fs=sf.read(i)\n",
    "    num_samples = int(np.fix(audio.shape[0]/len_of_samples))\n",
    "    for j in range(num_samples):\n",
    "        nearend_speech_chunk_list.append(i+\"{:02d}\".format(j+1))"
   ]
  },
  {
   "cell_type": "code",
   "execution_count": 26,
   "id": "3beacda6",
   "metadata": {},
   "outputs": [],
   "source": [
    "Rirs=[]\n",
    "for path in Path(RIR_path).rglob('*.wav'):\n",
    "    Rirs.append(str(path.resolve()))"
   ]
  },
  {
   "cell_type": "code",
   "execution_count": 27,
   "id": "e8484765",
   "metadata": {},
   "outputs": [
    {
     "data": {
      "text/plain": [
       "['E:\\\\intern\\\\codes\\\\dataset\\\\farend_speech\\\\farend_speech_fileid_0.wav01',\n",
       " 'E:\\\\intern\\\\codes\\\\dataset\\\\farend_speech\\\\farend_speech_fileid_0.wav02',\n",
       " 'E:\\\\intern\\\\codes\\\\dataset\\\\farend_speech\\\\farend_speech_fileid_1.wav01',\n",
       " 'E:\\\\intern\\\\codes\\\\dataset\\\\farend_speech\\\\farend_speech_fileid_1.wav02',\n",
       " 'E:\\\\intern\\\\codes\\\\dataset\\\\farend_speech\\\\farend_speech_fileid_10.wav01',\n",
       " 'E:\\\\intern\\\\codes\\\\dataset\\\\farend_speech\\\\farend_speech_fileid_10.wav02',\n",
       " 'E:\\\\intern\\\\codes\\\\dataset\\\\farend_speech\\\\farend_speech_fileid_100.wav01',\n",
       " 'E:\\\\intern\\\\codes\\\\dataset\\\\farend_speech\\\\farend_speech_fileid_100.wav02',\n",
       " 'E:\\\\intern\\\\codes\\\\dataset\\\\farend_speech\\\\farend_speech_fileid_1000.wav01',\n",
       " 'E:\\\\intern\\\\codes\\\\dataset\\\\farend_speech\\\\farend_speech_fileid_1000.wav02']"
      ]
     },
     "execution_count": 27,
     "metadata": {},
     "output_type": "execute_result"
    }
   ],
   "source": [
    "farend_speech_chunk_list"
   ]
  },
  {
   "cell_type": "code",
   "execution_count": 28,
   "id": "b24ed6d8",
   "metadata": {},
   "outputs": [
    {
     "data": {
      "text/plain": [
       "['E:\\\\intern\\\\codes\\\\dataset\\\\nearend_speech\\\\nearend_speech_fileid_0.wav01',\n",
       " 'E:\\\\intern\\\\codes\\\\dataset\\\\nearend_speech\\\\nearend_speech_fileid_0.wav02',\n",
       " 'E:\\\\intern\\\\codes\\\\dataset\\\\nearend_speech\\\\nearend_speech_fileid_1.wav01',\n",
       " 'E:\\\\intern\\\\codes\\\\dataset\\\\nearend_speech\\\\nearend_speech_fileid_1.wav02',\n",
       " 'E:\\\\intern\\\\codes\\\\dataset\\\\nearend_speech\\\\nearend_speech_fileid_10.wav01',\n",
       " 'E:\\\\intern\\\\codes\\\\dataset\\\\nearend_speech\\\\nearend_speech_fileid_10.wav02',\n",
       " 'E:\\\\intern\\\\codes\\\\dataset\\\\nearend_speech\\\\nearend_speech_fileid_100.wav01',\n",
       " 'E:\\\\intern\\\\codes\\\\dataset\\\\nearend_speech\\\\nearend_speech_fileid_100.wav02',\n",
       " 'E:\\\\intern\\\\codes\\\\dataset\\\\nearend_speech\\\\nearend_speech_fileid_1000.wav01',\n",
       " 'E:\\\\intern\\\\codes\\\\dataset\\\\nearend_speech\\\\nearend_speech_fileid_1000.wav02']"
      ]
     },
     "execution_count": 28,
     "metadata": {},
     "output_type": "execute_result"
    }
   ],
   "source": [
    "nearend_speech_chunk_list"
   ]
  },
  {
   "cell_type": "code",
   "execution_count": 29,
   "id": "593b08f9",
   "metadata": {},
   "outputs": [
    {
     "data": {
      "text/plain": [
       "['E:\\\\intern\\\\codes\\\\dataset\\\\RIR\\\\large_room\\\\Room001-00001.wav',\n",
       " 'E:\\\\intern\\\\codes\\\\dataset\\\\RIR\\\\large_room\\\\Room001-00002.wav',\n",
       " 'E:\\\\intern\\\\codes\\\\dataset\\\\RIR\\\\large_room\\\\Room001-00005.wav',\n",
       " 'E:\\\\intern\\\\codes\\\\dataset\\\\RIR\\\\large_room\\\\RVB2014_type1_rir_largeroom1_far_anglb.wav',\n",
       " 'E:\\\\intern\\\\codes\\\\dataset\\\\RIR\\\\large_room\\\\RVB2014_type1_rir_largeroom1_near_angla.wav',\n",
       " 'E:\\\\intern\\\\codes\\\\dataset\\\\RIR\\\\large_room\\\\RVB2014_type1_rir_largeroom2_far_anglb.wav',\n",
       " 'E:\\\\intern\\\\codes\\\\dataset\\\\RIR\\\\small_room\\\\Room001-00001.wav',\n",
       " 'E:\\\\intern\\\\codes\\\\dataset\\\\RIR\\\\small_room\\\\Room001-00003.wav']"
      ]
     },
     "execution_count": 29,
     "metadata": {},
     "output_type": "execute_result"
    }
   ],
   "source": [
    "Rirs"
   ]
  },
  {
   "cell_type": "code",
   "execution_count": 30,
   "id": "f930aa66",
   "metadata": {},
   "outputs": [],
   "source": [
    "np.save('meta/farend_speech_chunk_list',farend_speech_chunk_list)\n",
    "np.save('meta/nearend_speech_chunk_list',nearend_speech_chunk_list)\n",
    "np.save('meta/Rirs',Rirs)"
   ]
  },
  {
   "cell_type": "code",
   "execution_count": 31,
   "id": "10194833",
   "metadata": {},
   "outputs": [
    {
     "data": {
      "text/plain": [
       "array([2, 4])"
      ]
     },
     "execution_count": 31,
     "metadata": {},
     "output_type": "execute_result"
    }
   ],
   "source": [
    "np.random.choice([1,2,3,4],2)"
   ]
  },
  {
   "cell_type": "code",
   "execution_count": 2,
   "id": "3c154e94",
   "metadata": {},
   "outputs": [
    {
     "name": "stderr",
     "output_type": "stream",
     "text": [
      "E:\\conda\\envs\\tf\\lib\\site-packages\\numpy\\_distributor_init.py:32: UserWarning: loaded more than 1 DLL from .libs:\n",
      "E:\\conda\\envs\\tf\\lib\\site-packages\\numpy\\.libs\\libopenblas.PYQHXLVVQ7VESDPUVUADXEVJOBGHJPAY.gfortran-win_amd64.dll\n",
      "E:\\conda\\envs\\tf\\lib\\site-packages\\numpy\\.libs\\libopenblas.WCDJNK7YVMPZQ2ME2ZZHJJRJ3JIKNDB7.gfortran-win_amd64.dll\n",
      "  stacklevel=1)\n"
     ]
    }
   ],
   "source": [
    "import numpy as np"
   ]
  },
  {
   "cell_type": "code",
   "execution_count": 10,
   "id": "8e2bd4d5",
   "metadata": {
    "scrolled": true
   },
   "outputs": [],
   "source": [
    "rirs=np.load('meta/Rirs.npy')"
   ]
  },
  {
   "cell_type": "code",
   "execution_count": 11,
   "id": "82f58eba",
   "metadata": {},
   "outputs": [
    {
     "data": {
      "text/plain": [
       "array(['E:\\\\intern\\\\codes\\\\dataset\\\\RIR\\\\large_room\\\\Room001-00001.wav',\n",
       "       'E:\\\\intern\\\\codes\\\\dataset\\\\RIR\\\\large_room\\\\Room001-00002.wav',\n",
       "       'E:\\\\intern\\\\codes\\\\dataset\\\\RIR\\\\large_room\\\\Room001-00005.wav',\n",
       "       'E:\\\\intern\\\\codes\\\\dataset\\\\RIR\\\\large_room\\\\RVB2014_type1_rir_largeroom1_far_anglb.wav',\n",
       "       'E:\\\\intern\\\\codes\\\\dataset\\\\RIR\\\\large_room\\\\RVB2014_type1_rir_largeroom1_near_angla.wav',\n",
       "       'E:\\\\intern\\\\codes\\\\dataset\\\\RIR\\\\large_room\\\\RVB2014_type1_rir_largeroom2_far_anglb.wav',\n",
       "       'E:\\\\intern\\\\codes\\\\dataset\\\\RIR\\\\small_room\\\\Room001-00001.wav',\n",
       "       'E:\\\\intern\\\\codes\\\\dataset\\\\RIR\\\\small_room\\\\Room001-00003.wav'],\n",
       "      dtype='<U82')"
      ]
     },
     "execution_count": 11,
     "metadata": {},
     "output_type": "execute_result"
    }
   ],
   "source": [
    "rirs"
   ]
  },
  {
   "cell_type": "code",
   "execution_count": 12,
   "id": "68b2994f",
   "metadata": {},
   "outputs": [],
   "source": [
    "selected_rirs=np.random.choice(rirs,2)"
   ]
  },
  {
   "cell_type": "code",
   "execution_count": 13,
   "id": "a8aabb78",
   "metadata": {},
   "outputs": [
    {
     "data": {
      "text/plain": [
       "array(['E:\\\\intern\\\\codes\\\\dataset\\\\RIR\\\\small_room\\\\Room001-00001.wav',\n",
       "       'E:\\\\intern\\\\codes\\\\dataset\\\\RIR\\\\small_room\\\\Room001-00003.wav'],\n",
       "      dtype='<U82')"
      ]
     },
     "execution_count": 13,
     "metadata": {},
     "output_type": "execute_result"
    }
   ],
   "source": [
    "selected_rirs"
   ]
  },
  {
   "cell_type": "code",
   "execution_count": 14,
   "id": "f82da037",
   "metadata": {},
   "outputs": [],
   "source": [
    "nearend_rir, fs3=sf.read(selected_rirs[1])"
   ]
  },
  {
   "cell_type": "code",
   "execution_count": 15,
   "id": "1e860c6c",
   "metadata": {},
   "outputs": [
    {
     "data": {
      "text/plain": [
       "(8000,)"
      ]
     },
     "execution_count": 15,
     "metadata": {},
     "output_type": "execute_result"
    }
   ],
   "source": [
    "nearend_rir.shape"
   ]
  },
  {
   "cell_type": "code",
   "execution_count": 16,
   "id": "4fe1c6a5",
   "metadata": {},
   "outputs": [],
   "source": [
    "def snr_cost(s_estimate, s_true):\n",
    "    '''\n",
    "    Static Method defining the cost function. \n",
    "    The negative signal to noise ratio is calculated here. The loss is \n",
    "    always calculated over the last dimension. \n",
    "    '''\n",
    "\n",
    "    # calculating the SNR\n",
    "    snr = tf.reduce_mean(tf.math.square(s_true), axis=-1, keepdims=True) / \\\n",
    "        (tf.reduce_mean(tf.math.square(s_true-s_estimate), axis=-1, keepdims=True)+1e-7)\n",
    "    # using some more lines, because TF has no log10\n",
    "    num = tf.math.log(snr) \n",
    "    denom = tf.math.log(tf.constant(10, dtype=num.dtype))\n",
    "    loss = -10*(num / (denom))\n",
    "    # returning the loss\n",
    "    return loss"
   ]
  },
  {
   "cell_type": "code",
   "execution_count": 17,
   "id": "43b531bf",
   "metadata": {},
   "outputs": [],
   "source": [
    "import tensorflow as tf"
   ]
  },
  {
   "cell_type": "code",
   "execution_count": null,
   "id": "083d37ec",
   "metadata": {},
   "outputs": [],
   "source": []
  },
  {
   "cell_type": "code",
   "execution_count": null,
   "id": "06b5b5dd",
   "metadata": {},
   "outputs": [],
   "source": []
  },
  {
   "cell_type": "code",
   "execution_count": 23,
   "id": "2d3abbfd",
   "metadata": {},
   "outputs": [],
   "source": [
    "STD_n_db = np.random.uniform(-70,-120,1)\n",
    "STD_n = 10**(STD_n_db/20)"
   ]
  },
  {
   "cell_type": "code",
   "execution_count": 24,
   "id": "d7e80f54",
   "metadata": {},
   "outputs": [
    {
     "name": "stderr",
     "output_type": "stream",
     "text": [
      "E:\\conda\\envs\\tf\\lib\\site-packages\\ipykernel_launcher.py:1: RuntimeWarning: invalid value encountered in log10\n",
      "  \"\"\"Entry point for launching an IPython kernel.\n"
     ]
    },
    {
     "data": {
      "text/plain": [
       "nan"
      ]
     },
     "execution_count": 24,
     "metadata": {},
     "output_type": "execute_result"
    }
   ],
   "source": [
    "np.log10(-20)"
   ]
  },
  {
   "cell_type": "code",
   "execution_count": 25,
   "id": "ae364e7b",
   "metadata": {},
   "outputs": [
    {
     "data": {
      "text/plain": [
       "array([0.00029911])"
      ]
     },
     "execution_count": 25,
     "metadata": {},
     "output_type": "execute_result"
    }
   ],
   "source": [
    "STD_n"
   ]
  },
  {
   "cell_type": "code",
   "execution_count": 26,
   "id": "983ab81f",
   "metadata": {},
   "outputs": [
    {
     "data": {
      "text/plain": [
       "array([ 3.64157287e-05, -1.11502434e-04, -4.84049566e-05, ...,\n",
       "        3.46211654e-05, -1.44443907e-04,  6.95125503e-04])"
      ]
     },
     "execution_count": 26,
     "metadata": {},
     "output_type": "execute_result"
    }
   ],
   "source": [
    "np.random.normal(0, STD_n, nearend_rir.shape[0])"
   ]
  },
  {
   "cell_type": "code",
   "execution_count": null,
   "id": "4cd0f049",
   "metadata": {},
   "outputs": [],
   "source": []
  }
 ],
 "metadata": {
  "kernelspec": {
   "display_name": "tf",
   "language": "python",
   "name": "tf"
  },
  "language_info": {
   "codemirror_mode": {
    "name": "ipython",
    "version": 3
   },
   "file_extension": ".py",
   "mimetype": "text/x-python",
   "name": "python",
   "nbconvert_exporter": "python",
   "pygments_lexer": "ipython3",
   "version": "3.7.10"
  }
 },
 "nbformat": 4,
 "nbformat_minor": 5
}
