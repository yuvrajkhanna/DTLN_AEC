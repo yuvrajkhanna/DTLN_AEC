{
 "cells": [
  {
   "cell_type": "code",
   "execution_count": 1,
   "id": "c18f5b65",
   "metadata": {},
   "outputs": [
    {
     "name": "stderr",
     "output_type": "stream",
     "text": [
      "E:\\conda\\envs\\tf\\lib\\site-packages\\numpy\\_distributor_init.py:32: UserWarning: loaded more than 1 DLL from .libs:\n",
      "E:\\conda\\envs\\tf\\lib\\site-packages\\numpy\\.libs\\libopenblas.PYQHXLVVQ7VESDPUVUADXEVJOBGHJPAY.gfortran-win_amd64.dll\n",
      "E:\\conda\\envs\\tf\\lib\\site-packages\\numpy\\.libs\\libopenblas.WCDJNK7YVMPZQ2ME2ZZHJJRJ3JIKNDB7.gfortran-win_amd64.dll\n",
      "  stacklevel=1)\n"
     ]
    }
   ],
   "source": [
    "import os, fnmatch\n",
    "import tensorflow.keras as keras\n",
    "from tensorflow.keras.models import Model\n",
    "from tensorflow.keras.layers import Activation, Dense, LSTM, Dropout, \\\n",
    "    Lambda, Input, Multiply, Layer, Conv1D, Concatenate\n",
    "from tensorflow.keras.callbacks import ReduceLROnPlateau, CSVLogger, \\\n",
    "    EarlyStopping, ModelCheckpoint\n",
    "import tensorflow as tf\n",
    "import soundfile as sf\n",
    "from wavinfo import WavInfoReader\n",
    "from random import shuffle, seed\n",
    "import numpy as np"
   ]
  },
  {
   "cell_type": "code",
   "execution_count": 2,
   "id": "7eb1ee26",
   "metadata": {},
   "outputs": [],
   "source": [
    "class audio_generator():\n",
    "    '''\n",
    "    Class to create a Tensorflow dataset based on an iterator from a large scale \n",
    "    audio dataset. This audio generator only supports single channel audio files.\n",
    "    '''\n",
    "    \n",
    "    def __init__(self, path_to_farend_signal, path_to_nearend_speech, len_of_samples, fs, train_flag=False):\n",
    "        '''\n",
    "        Constructor of the audio generator class.\n",
    "        Inputs:\n",
    "            path_to_input       path to the mixtures\n",
    "            path_to_s1          path to the target source data\n",
    "            len_of_samples      length of audio snippets in samples\n",
    "            fs                  sampling rate\n",
    "            train_flag          flag for activate shuffling of files\n",
    "        '''\n",
    "        # set inputs to properties\n",
    "        #self.path_to_nearend_signal = path_to_nearend_signal\n",
    "        self.path_to_farend_signal = path_to_farend_signal\n",
    "        self.path_to_nearend_speech = path_to_nearend_speech\n",
    "        \n",
    "        self.len_of_samples = len_of_samples\n",
    "        self.fs = fs\n",
    "        self.train_flag=train_flag\n",
    "        # count the number of samples in your data set (depending on your disk,\n",
    "        #                                               this can take some time)\n",
    "        self.count_samples()\n",
    "        # create iterable tf.data.Dataset object\n",
    "        self.create_tf_data_obj()\n",
    "        \n",
    "    def count_samples(self):\n",
    "        '''\n",
    "        Method to list the data of the dataset and count the number of samples. \n",
    "        '''\n",
    "\n",
    "        # list .wav files in directory\n",
    "        self.file_names = fnmatch.filter(os.listdir(self.path_to_nearend_signal), '*.wav')\n",
    "        # count the number of samples contained in the dataset\n",
    "        self.total_samples = 0\n",
    "        for file in self.file_names:\n",
    "            info = WavInfoReader(os.path.join(self.path_to_nearend_signal, file))\n",
    "            self.total_samples = self.total_samples + \\\n",
    "                int(np.fix(info.data.frame_count/self.len_of_samples))\n",
    "    \n",
    "         \n",
    "    def create_generator(self):\n",
    "        '''\n",
    "        Method to create the iterator. \n",
    "        '''\n",
    "\n",
    "        # check if training or validation\n",
    "        if self.train_flag:\n",
    "            shuffle(self.file_names)\n",
    "        # iterate over the files  \n",
    "        for file in self.file_names:\n",
    "            # read the audio files\n",
    "            #nearend_signal, fs_1 = sf.read(os.path.join(self.path_to_nearend_signal, file))\n",
    "            farend_signal, fs_2 = sf.read(os.path.join(self.path_to_farend_signal, file.replace('nearend_mic','farend_speech')))\n",
    "            nearend_speech, fs_3 = sf.read(os.path.join(self.path_to_nearend_speech, file.replace('nearend_mic','nearend_speech')))\n",
    "            # check if the sampling rates are matching the specifications\n",
    "            if fs_1 != self.fs or fs_2 != self.fs:\n",
    "                raise ValueError('Sampling rates do not match.')\n",
    "            if nearend_speech.ndim != 1 or farend_signal.ndim != 1:\n",
    "                raise ValueError('Too many audio channels. The DTLN audio_generator \\\n",
    "                                 only supports single channel audio data.')\n",
    "            # Random Sample\n",
    "            \n",
    "            if len(farend_signal) > self.len_of_samples:\n",
    "                idx_seg = np.random.randint(0, len(input_audio)-remaining_length)\n",
    "                farend_signal = farend_signal[idx_seg:idx_seg+self.len_of_samples]\n",
    "            \n",
    "            if len(nearend_speech) > self.len_of_samples:\n",
    "                idx_seg = np.random.randint(0, len(input_audio)-remaining_length)\n",
    "                nearend_speech = nearend_speech[idx_seg:idx_seg+self.len_of_samples]\n",
    "            \n",
    "            yield {\"input_1\": farend_signal_dat.astype('float32'), \"input_2\": nearend_signal_dat.astype('float32')},nearend_speech_dat.astype('float32')\n",
    "              \n",
    "\n",
    "    def create_tf_data_obj(self):\n",
    "        '''\n",
    "        Method to to create the tf.data.Dataset. \n",
    "        '''\n",
    "\n",
    "        # creating the tf.data.Dataset from the iterator\n",
    "        self.tf_data_set = tf.data.Dataset.from_generator(\n",
    "                        self.create_generator,\n",
    "                        output_types=({\"input_1\": tf.float32, \"input_2\": tf.float32}, tf.float32),\n",
    "                        args=None\n",
    "                        )"
   ]
  },
  {
   "cell_type": "code",
   "execution_count": 3,
   "id": "693ebbf7",
   "metadata": {},
   "outputs": [],
   "source": [
    "import librosa"
   ]
  },
  {
   "cell_type": "code",
   "execution_count": 59,
   "id": "99760383",
   "metadata": {
    "scrolled": true
   },
   "outputs": [],
   "source": [
    "audio_file_name='E:/intern/codes/dataset/RIR/small_room/Room001-00001.wav'\n",
    "in_data,fs = librosa.core.load(audio_file_name, sr=16000, mono=True)"
   ]
  },
  {
   "cell_type": "code",
   "execution_count": 60,
   "id": "6d862015",
   "metadata": {},
   "outputs": [],
   "source": [
    "audio_file_name='E:/intern/codes/dataset/farend_signal/farend_speech_fileid_0.wav'\n",
    "in_data2,fs = librosa.core.load(audio_file_name, sr=16000, mono=True)"
   ]
  },
  {
   "cell_type": "code",
   "execution_count": 138,
   "id": "237a88f5",
   "metadata": {},
   "outputs": [],
   "source": [
    "audio_file_name='E:/intern/codes/dataset/RIR/small_room/Room001-00001.wav'\n",
    "in_data2,fs = sf.read(audio_file_name)"
   ]
  },
  {
   "cell_type": "code",
   "execution_count": 139,
   "id": "c899ad59",
   "metadata": {},
   "outputs": [],
   "source": [
    "audio_file_name='E:/intern/codes/dataset/farend_signal/farend_speech_fileid_0.wav'\n",
    "in_data1,fs = sf.read(audio_file_name)"
   ]
  },
  {
   "cell_type": "code",
   "execution_count": 140,
   "id": "b2a53f31",
   "metadata": {},
   "outputs": [
    {
     "name": "stdout",
     "output_type": "stream",
     "text": [
      "-4.869033727359234e-05\n",
      "2.2365570068359377e-05\n"
     ]
    }
   ],
   "source": [
    "print(in_data1.mean())\n",
    "print(in_data2.mean())"
   ]
  },
  {
   "cell_type": "code",
   "execution_count": 106,
   "id": "594a915e",
   "metadata": {},
   "outputs": [],
   "source": [
    "in_data1 = in_data1 / np.max(np.abs(in_data1))"
   ]
  },
  {
   "cell_type": "code",
   "execution_count": 142,
   "id": "d8e21e4f",
   "metadata": {},
   "outputs": [],
   "source": [
    "in_data2 = in_data2 / np.max(np.abs(in_data2))"
   ]
  },
  {
   "cell_type": "code",
   "execution_count": 108,
   "id": "e7b9c3ed",
   "metadata": {},
   "outputs": [
    {
     "name": "stdout",
     "output_type": "stream",
     "text": [
      "-0.00024177678008502397\n",
      "0.0006953273244781785\n"
     ]
    }
   ],
   "source": [
    "print(in_data1.mean())\n",
    "print(in_data2.mean())"
   ]
  },
  {
   "cell_type": "code",
   "execution_count": 109,
   "id": "7d806b33",
   "metadata": {},
   "outputs": [],
   "source": [
    "from scipy import signal"
   ]
  },
  {
   "cell_type": "code",
   "execution_count": 143,
   "id": "ad4fb932",
   "metadata": {},
   "outputs": [],
   "source": [
    "signal_rev =signal.fftconvolve(in_data1,in_data2,mode=\"full\")\n",
    "#signal_rev = signal_rev / np.max(np.abs(signal_rev))\n",
    "signal_rev = signal_rev[0 : in_data1.shape[0]]\n",
    "sf.write('file_out.wav', signal_rev, fs)"
   ]
  },
  {
   "cell_type": "code",
   "execution_count": 111,
   "id": "edf2692b",
   "metadata": {},
   "outputs": [
    {
     "data": {
      "text/plain": [
       "-0.0006598926884704829"
      ]
     },
     "execution_count": 111,
     "metadata": {},
     "output_type": "execute_result"
    }
   ],
   "source": [
    "signal_rev.mean()"
   ]
  },
  {
   "cell_type": "code",
   "execution_count": 113,
   "id": "653900df",
   "metadata": {},
   "outputs": [],
   "source": [
    "rms = (in_data1 ** 2).mean() ** 0.5"
   ]
  },
  {
   "cell_type": "code",
   "execution_count": 114,
   "id": "9e8e0f76",
   "metadata": {},
   "outputs": [
    {
     "data": {
      "text/plain": [
       "0.15880297475233765"
      ]
     },
     "execution_count": 114,
     "metadata": {},
     "output_type": "execute_result"
    }
   ],
   "source": [
    "rms"
   ]
  },
  {
   "cell_type": "code",
   "execution_count": 115,
   "id": "ef640a99",
   "metadata": {},
   "outputs": [],
   "source": [
    "EPS = np.finfo(float).eps"
   ]
  },
  {
   "cell_type": "code",
   "execution_count": 116,
   "id": "7e779f31",
   "metadata": {},
   "outputs": [],
   "source": [
    "target_level=-25"
   ]
  },
  {
   "cell_type": "code",
   "execution_count": 117,
   "id": "30d28ff8",
   "metadata": {},
   "outputs": [],
   "source": [
    "scalar = 10 ** (target_level / 20) / (rms+EPS)"
   ]
  },
  {
   "cell_type": "code",
   "execution_count": 119,
   "id": "5778a74a",
   "metadata": {},
   "outputs": [],
   "source": [
    "audio = in_data1 * scalar"
   ]
  },
  {
   "cell_type": "code",
   "execution_count": 122,
   "id": "95dea2da",
   "metadata": {},
   "outputs": [],
   "source": [
    "rms = (audio ** 2).mean() ** 0.5"
   ]
  },
  {
   "cell_type": "code",
   "execution_count": 123,
   "id": "a7a18945",
   "metadata": {},
   "outputs": [
    {
     "data": {
      "text/plain": [
       "0.056234132519034835"
      ]
     },
     "execution_count": 123,
     "metadata": {},
     "output_type": "execute_result"
    }
   ],
   "source": [
    "rms"
   ]
  },
  {
   "cell_type": "code",
   "execution_count": 124,
   "id": "3f5d20a9",
   "metadata": {},
   "outputs": [
    {
     "data": {
      "text/plain": [
       "-25.000000000000014"
      ]
     },
     "execution_count": 124,
     "metadata": {},
     "output_type": "execute_result"
    }
   ],
   "source": [
    "20*np.log10(rms)"
   ]
  },
  {
   "cell_type": "code",
   "execution_count": 136,
   "id": "94421b90",
   "metadata": {},
   "outputs": [],
   "source": [
    "import matplotlib.pyplot as plt"
   ]
  },
  {
   "cell_type": "code",
   "execution_count": 137,
   "id": "1211e9f4",
   "metadata": {},
   "outputs": [
    {
     "data": {
      "text/plain": [
       "[<matplotlib.lines.Line2D at 0x20f5d29ca48>]"
      ]
     },
     "execution_count": 137,
     "metadata": {},
     "output_type": "execute_result"
    },
    {
     "data": {
      "image/png": "[encoded data removed]",
      "text/plain": [
       "<Figure size 432x288 with 1 Axes>"
      ]
     },
     "metadata": {
      "needs_background": "light"
     },
     "output_type": "display_data"
    }
   ],
   "source": [
    "plt.plot(in_data2)"
   ]
  },
  {
   "cell_type": "code",
   "execution_count": 4,
   "id": "73427324",
   "metadata": {},
   "outputs": [],
   "source": [
    "from scipy.signal import sosfiltfilt, butter"
   ]
  },
  {
   "cell_type": "code",
   "execution_count": 9,
   "id": "e2032942",
   "metadata": {},
   "outputs": [],
   "source": [
    "sos = butter(4, 0.125, output='sos')\n"
   ]
  },
  {
   "cell_type": "code",
   "execution_count": 10,
   "id": "23be7fe5",
   "metadata": {},
   "outputs": [
    {
     "data": {
      "text/plain": [
       "array([[ 9.33498613e-04,  1.86699723e-03,  9.33498613e-04,\n",
       "         1.00000000e+00, -1.36511724e+00,  4.77592250e-01],\n",
       "       [ 1.00000000e+00,  2.00000000e+00,  1.00000000e+00,\n",
       "         1.00000000e+00, -1.61172710e+00,  7.44520838e-01]])"
      ]
     },
     "execution_count": 10,
     "metadata": {},
     "output_type": "execute_result"
    }
   ],
   "source": [
    "sos"
   ]
  },
  {
   "cell_type": "code",
   "execution_count": null,
   "id": "04ec5d32",
   "metadata": {},
   "outputs": [],
   "source": []
  }
 ],
 "metadata": {
  "kernelspec": {
   "display_name": "tf",
   "language": "python",
   "name": "tf"
  },
  "language_info": {
   "codemirror_mode": {
    "name": "ipython",
    "version": 3
   },
   "file_extension": ".py",
   "mimetype": "text/x-python",
   "name": "python",
   "nbconvert_exporter": "python",
   "pygments_lexer": "ipython3",
   "version": "3.7.10"
  }
 },
 "nbformat": 4,
 "nbformat_minor": 5
}
